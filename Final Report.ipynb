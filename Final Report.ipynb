{
 "cells": [
  {
   "cell_type": "code",
   "execution_count": 1,
   "id": "82af44d5-5f49-4add-81e4-ec5587790c3f",
   "metadata": {},
   "outputs": [],
   "source": [
    "import matplotlib\n",
    "import matplotlib.pyplot as plt\n",
    "import numpy as np\n",
    "import pandas as pd\n",
    "import seaborn as sns\n",
    "\n",
    "from sklearn import datasets, ensemble\n",
    "from sklearn.inspection import permutation_importance\n",
    "from sklearn.metrics import mean_squared_error\n",
    "from sklearn.model_selection import train_test_split\n",
    "from sklearn.utils.fixes import parse_version\n",
    "from sklearn.preprocessing import OneHotEncoder\n",
    "from sklearn.metrics import mean_squared_error, mean_absolute_error, r2_score\n",
    "from sklearn.model_selection import GridSearchCV #for Hyperparameter tuning (optional)\n",
    "from sklearn.preprocessing import LabelEncoder #Label Encoding\n",
    "from sklearn.model_selection import StratifiedKFold #K-Fold Cross-Validation\n",
    "from sklearn.ensemble import GradientBoostingRegressor, StackingRegressor\n",
    "from sklearn.feature_selection import RFE\n",
    "from xgboost import XGBRegressor\n",
    "from sklearn.model_selection import GridSearchCV\n",
    "from xgboost import XGBRegressor\n",
    "from sklearn.linear_model import LinearRegression\n",
    "from sklearn.ensemble import RandomForestRegressor\n",
    "from sklearn.linear_model import Ridge\n",
    "from sklearn.model_selection import RandomizedSearchCV"
   ]
  },
  {
   "cell_type": "code",
   "execution_count": 3,
   "id": "e4a5ef8c-bb43-4449-9f95-37498a496466",
   "metadata": {},
   "outputs": [],
   "source": [
    "#import dataset\n",
    "data = pd.read_csv('0717_Singapore_data_processed_bulkcarrier_v1.csv')"
   ]
  },
  {
   "cell_type": "code",
   "execution_count": 5,
   "id": "2373f981-0559-4df3-b1b9-2cb409843ee7",
   "metadata": {},
   "outputs": [],
   "source": [
    "#Define X and y\n",
    "X = data [['ship_age_c',\n",
    "           'flag_performance_num_i',\n",
    "           'ro_num_i',\n",
    "           'company_performance_num_i',\n",
    "           'last_deficiency_no_c',\n",
    "           'classification_society_num_b',\n",
    "           'last_inspection_state_to_num_b',\n",
    "           'last_36_months_def_average_c',\n",
    "           'last_36_months_def_max_c',\n",
    "           'last_36_months_def_sum_c',\n",
    "           'last_36_months_det_sum_c']]\n",
    "\n",
    "y = data['deficiency_no_x']\n",
    "\n",
    "# Split the Dataset into random Train and Test\n",
    "X_train, X_test, y_train, y_test = train_test_split(X, y, test_size = 0.2, random_state= 13)"
   ]
  },
  {
   "cell_type": "markdown",
   "id": "96c02d16-f6e1-4680-a72d-7b0c8bd776d7",
   "metadata": {
    "jp-MarkdownHeadingCollapsed": true
   },
   "source": [
    "# GBRT (y1_pred)"
   ]
  },
  {
   "cell_type": "code",
   "execution_count": 7,
   "id": "2b2acd98-3d2a-493b-83b1-32b6ea183961",
   "metadata": {},
   "outputs": [
    {
     "name": "stdout",
     "output_type": "stream",
     "text": [
      "Fitting 5 folds for each of 729 candidates, totalling 3645 fits\n",
      "Best Parameters: {'learning_rate': 0.01, 'max_depth': 3, 'max_features': 0.7, 'min_samples_leaf': 5, 'n_estimators': 300, 'subsample': 0.8}\n"
     ]
    }
   ],
   "source": [
    "#GridSearch (GBRT)\n",
    "\n",
    "# Define the hyperparameter grid\n",
    "param_grid_gbrt = {\n",
    "    \"n_estimators\": [100, 300, 500],  # Number of boosting stages\n",
    "    \"learning_rate\": [0.01, 0.05, 0.1],  # Step size shrinkage\n",
    "    \"max_depth\": [3, 5, 7],  # Maximum depth of trees\n",
    "    \"min_samples_leaf\": [5, 10, 20],  # Minimum samples per leaf node\n",
    "    \"subsample\": [0.6, 0.8, 1.0],  # Fraction of samples used for each tree\n",
    "    \"max_features\": [0.3, 0.5, 0.7]  # Fraction of features used per split\n",
    "}\n",
    "\n",
    "# Initialize GBRT model\n",
    "gbrtreg = GradientBoostingRegressor()\n",
    "\n",
    "# Initialize Grid Search with 5-fold cross-validation\n",
    "grid_search_gbrt = GridSearchCV(\n",
    "    estimator=gbrtreg, \n",
    "    param_grid=param_grid_gbrt, \n",
    "    cv=5,  # 5-fold cross-validation\n",
    "    scoring='neg_mean_squared_error',  # Optimize for lowest MSE\n",
    "    n_jobs=-1,  # Use all CPU cores for parallel processing\n",
    "    verbose=2  # Print progress updates\n",
    ")\n",
    "\n",
    "# Perform the grid search\n",
    "grid_search_gbrt.fit(X_train, y_train)\n",
    "\n",
    "# Print the best hyperparameters\n",
    "print(\"Best Parameters:\", grid_search_gbrt.best_params_)"
   ]
  },
  {
   "cell_type": "code",
   "execution_count": 55,
   "id": "12bb06a0-79a6-4e60-8f51-c842059c2109",
   "metadata": {
    "scrolled": true
   },
   "outputs": [
    {
     "name": "stdout",
     "output_type": "stream",
     "text": [
      "Mean Squared Error: 17.80241018492448\n",
      "Root Mean Squared Error: 4.219290246584665\n",
      "Mean Absolute Error: 3.004566710260412\n",
      "R² Score: 0.44522784841279994\n"
     ]
    }
   ],
   "source": [
    "#Run Model (GBRT)\n",
    "\n",
    "# Initialize the Gradient Boosting Regressor with desired hyperparameters\n",
    "params_gbrt = {\n",
    "    \"n_estimators\": 300, #Number of boosting stages (trees) to run\n",
    "    \"learning_rate\": 0.01, #determine contribution of each tree, lower LR = low variance \n",
    "    \"max_depth\": 3, #maximum depth of individual trees \n",
    "    \"min_samples_leaf\": 5, #Minimum samples required at a leaf node\n",
    "    \"subsample\": 0.6, #Fraction of samples used to fit each tree\n",
    "    \"max_features\": 0.5, #Fraction of features to consider at each split\n",
    "    \"loss\": \"squared_error\" #Specifies the loss function to be optimised --> potential to explore other loss fn: MAE, \"huber\", \"quantitle\"\n",
    "}\n",
    "\n",
    "# Fit the model on the training set\n",
    "gbrt = ensemble.GradientBoostingRegressor(**params_gbrt)\n",
    "gbrt.fit(X_train, y_train)\n",
    "\n",
    "#Make predictions\n",
    "y1_pred = gbrt.predict(X_test)\n",
    "\n",
    "# Evaluate the model\n",
    "mse1 = mean_squared_error(y_test, y1_pred)\n",
    "rmse1 = np.sqrt(mse1)  # Calculate RMSE by taking the square root of MSE\n",
    "mae1 = mean_absolute_error(y_test, y1_pred)\n",
    "r2_1 = r2_score(y_test, y1_pred)\n",
    "\n",
    "print(f'Mean Squared Error: {mse1}') #average of the squares of the errors, lower = more accurate\n",
    "print(f'Root Mean Squared Error: {rmse1}') #determines variance, how well the data fits?? \n",
    "print(f'Mean Absolute Error: {mae1}') #absolute differences of error, lower = more accurate\n",
    "print(f'R² Score: {r2_1}')"
   ]
  },
  {
   "cell_type": "code",
   "execution_count": 57,
   "id": "621a4f64-6f32-4b61-9940-39e13cdfb5d1",
   "metadata": {},
   "outputs": [],
   "source": [
    "#For Plot Cumulative Visulisation (GBRT)\n",
    "\n",
    "# Retrain GBRT on the entire dataset\n",
    "gbrt_full = ensemble.GradientBoostingRegressor(**params_gbrt)\n",
    "gbrt_full.fit(X, y.values.ravel())  # Use entire dataset\n",
    "\n",
    "# Predict deficiency numbers for ALL data points\n",
    "y1_pred_full = gbrt_full.predict(X)\n",
    "\n",
    "# Create a DataFrame with both actual and predicted deficiency numbers\n",
    "results1_full = pd.DataFrame({\n",
    "    'predicted_deficiency': y1_pred_full,\n",
    "    'actual_deficiency': y.values.flatten()\n",
    "})\n",
    "\n",
    "# Rank by predicted deficiency and compute cumulative sum\n",
    "results1_pred_ranked = results1_full.sort_values(by='predicted_deficiency', ascending=False).reset_index(drop=True)\n",
    "results1_pred_ranked['cumulative_actual_deficiency'] = results1_pred_ranked['actual_deficiency'].cumsum()\n",
    "\n",
    "# Rank by actual deficiency and compute cumulative sum\n",
    "results_actual_ranked = results1_full.sort_values(by='actual_deficiency', ascending=False).reset_index(drop=True)\n",
    "results_actual_ranked['cumulative_actual_deficiency'] = results_actual_ranked['actual_deficiency'].cumsum()"
   ]
  },
  {
   "cell_type": "markdown",
   "id": "f7059963-2c4d-4dba-ba72-7003381aa23e",
   "metadata": {
    "jp-MarkdownHeadingCollapsed": true
   },
   "source": [
    "# XGBoost (y2_pred)"
   ]
  },
  {
   "cell_type": "code",
   "execution_count": 11,
   "id": "65cdc739-77c6-423e-9d40-96e6c70cdb5a",
   "metadata": {},
   "outputs": [
    {
     "name": "stdout",
     "output_type": "stream",
     "text": [
      "Requirement already satisfied: xgboost in c:\\users\\yanting\\anaconda3\\lib\\site-packages (3.0.0)\n",
      "Requirement already satisfied: numpy in c:\\users\\yanting\\anaconda3\\lib\\site-packages (from xgboost) (1.26.4)\n",
      "Requirement already satisfied: scipy in c:\\users\\yanting\\anaconda3\\lib\\site-packages (from xgboost) (1.13.1)\n"
     ]
    }
   ],
   "source": [
    "!pip install xgboost"
   ]
  },
  {
   "cell_type": "code",
   "execution_count": 12,
   "id": "b2445036-1331-40a2-8fd6-39a60da4dba0",
   "metadata": {},
   "outputs": [
    {
     "name": "stdout",
     "output_type": "stream",
     "text": [
      "Fitting 5 folds for each of 729 candidates, totalling 3645 fits\n",
      "Best Parameters: {'colsample_bytree': 0.7, 'learning_rate': 0.01, 'max_depth': 3, 'min_child_weight': 1, 'n_estimators': 500, 'subsample': 0.6}\n"
     ]
    }
   ],
   "source": [
    "# GridSearch (XGBoost)\n",
    "\n",
    "# Define the hyperparameter grid\n",
    "param_grid_xgb = {\n",
    "    \"n_estimators\": [100, 300, 500],  \n",
    "    \"learning_rate\": [0.01, 0.05, 0.1],  \n",
    "    \"max_depth\": [3, 5, 7],  \n",
    "    \"min_child_weight\": [1, 5, 10],  # Changed from `min_samples_leaf`\n",
    "    \"subsample\": [0.6, 0.8, 1.0],  \n",
    "    \"colsample_bytree\": [0.3, 0.5, 0.7]  # Changed from `max_features`\n",
    "}\n",
    "\n",
    "# Initialize model\n",
    "xgb_model = XGBRegressor()\n",
    "\n",
    "# Initialize Grid Search with 5-fold cross-validation\n",
    "grid_search_xgb = GridSearchCV(\n",
    "    estimator=xgb_model,\n",
    "    param_grid=param_grid_xgb, \n",
    "    cv=5,  # 5-fold cross-validation\n",
    "    scoring='neg_mean_squared_error',  # Optimize for lowest MSE\n",
    "    n_jobs=-1,  # Use all CPU cores for parallel processing\n",
    "    verbose=2  # Print progress updates\n",
    ")\n",
    "\n",
    "# Perform the grid search\n",
    "grid_search_xgb.fit(X_train, y_train)\n",
    "\n",
    "# Print the best hyperparameters\n",
    "print(\"Best Parameters:\", grid_search_xgb.best_params_)\n"
   ]
  },
  {
   "cell_type": "code",
   "execution_count": 59,
   "id": "5b47bd3c-39b7-4a32-9289-78e469cf8ac1",
   "metadata": {},
   "outputs": [
    {
     "name": "stdout",
     "output_type": "stream",
     "text": [
      "Mean Squared Error: 19.384082408551347\n",
      "Root Mean Squared Error: 4.402735786820661\n",
      "Mean Absolute Error: 3.10496773252954\n",
      "R² Score: 0.3959385840102614\n"
     ]
    }
   ],
   "source": [
    "from xgboost import XGBRegressor\n",
    "\n",
    "# Run model (XGBoost)\n",
    "\n",
    "# Initialize the XGBoost with desired hyperparameters\n",
    "params_xgb = {\n",
    "    \"n_estimators\": 500,  \n",
    "    \"learning_rate\": 0.01,  \n",
    "    \"max_depth\":3,  \n",
    "    \"min_child_weight\": 1,  # Changed from `min_samples_leaf`\n",
    "    \"subsample\": 0.6 ,  \n",
    "    \"colsample_bytree\": 0.7  # Changed from `max_features`\n",
    "}\n",
    "xgb_model = XGBRegressor(**params_xgb)\n",
    "xgb_model.fit(X_train, y_train)\n",
    "\n",
    "#Make predictions\n",
    "y2_pred = xgb_model.predict(X_test)\n",
    "\n",
    "# Evaluate the model\n",
    "mse2 = mean_squared_error(y_test, y2_pred)\n",
    "rmse2 = np.sqrt(mse2)  # Calculate RMSE by taking the square root of MSE\n",
    "mae2 = mean_absolute_error(y_test, y2_pred)\n",
    "r2_2 = r2_score(y_test, y2_pred)\n",
    "\n",
    "print(f'Mean Squared Error: {mse2}') #average of the squares of the errors, lower = more accurate\n",
    "print(f'Root Mean Squared Error: {rmse2}') #determines variance, how well the data fits?? \n",
    "print(f'Mean Absolute Error: {mae2}') #absolute differences of error, lower = more accurate\n",
    "print(f'R² Score: {r2_2}')"
   ]
  },
  {
   "cell_type": "code",
   "execution_count": 61,
   "id": "e4c29f5b-cc4b-46bc-a7f8-fef5d226381d",
   "metadata": {},
   "outputs": [],
   "source": [
    "#### Retrain GBRT on the entire dataset\n",
    "xgb_full = XGBRegressor(**params_xgb)\n",
    "xgb_full.fit(X, y.values.ravel())  # Use entire dataset\n",
    "\n",
    "# Predict deficiency numbers for ALL data points\n",
    "y2_pred_full = xgb_full.predict(X)\n",
    "\n",
    "# Create a DataFrame with both actual and predicted deficiency numbers\n",
    "results2_full = pd.DataFrame({\n",
    "    'predicted_deficiency': y2_pred_full,\n",
    "    'actual_deficiency': y.values.flatten()\n",
    "})\n",
    "\n",
    "# Rank by predicted deficiency and compute cumulative sum\n",
    "results2_pred_ranked = results2_full.sort_values(by='predicted_deficiency', ascending=False).reset_index(drop=True)\n",
    "results2_pred_ranked['cumulative_actual_deficiency'] = results2_pred_ranked['actual_deficiency'].cumsum()\n",
    "\n",
    "# Rank by actual deficiency and compute cumulative sum\n",
    "results_actual_ranked = results2_full.sort_values(by='actual_deficiency', ascending=False).reset_index(drop=True)\n",
    "results_actual_ranked['cumulative_actual_deficiency'] = results_actual_ranked['actual_deficiency'].cumsum()"
   ]
  },
  {
   "cell_type": "markdown",
   "id": "d169edd8-b8b7-482e-9ab5-fdd72c827ff5",
   "metadata": {
    "jp-MarkdownHeadingCollapsed": true
   },
   "source": [
    "# Random Forest Regressor (y3_pred)"
   ]
  },
  {
   "cell_type": "code",
   "execution_count": 4,
   "id": "73d4b8e5-fba7-4dc0-8e43-2409a57a6b13",
   "metadata": {},
   "outputs": [
    {
     "name": "stdout",
     "output_type": "stream",
     "text": [
      "Fitting 5 folds for each of 162 candidates, totalling 810 fits\n",
      "Best Hyperparameters: {'max_depth': 20, 'max_features': 'log2', 'min_samples_leaf': 1, 'min_samples_split': 10, 'n_estimators': 200}\n"
     ]
    }
   ],
   "source": [
    "#GridSearch (RF)\n",
    "\n",
    "# Define the hyperparameter grid\n",
    "param_grid_rf = {\n",
    "    'n_estimators': [50, 100, 200],  # Number of trees\n",
    "    'max_depth': [None, 10, 20],  # Maximum depth of trees\n",
    "    'min_samples_split': [2, 5, 10],  # Minimum samples to split a node\n",
    "    'min_samples_leaf': [1, 2, 4],  # Minimum samples at a leaf node\n",
    "    'max_features': ['sqrt', 'log2'],  # Number of features to consider per split\n",
    "}\n",
    "\n",
    "# Initialize Random Forest\n",
    "rf = RandomForestRegressor()\n",
    "\n",
    "# Perform Grid Search with 5-fold cross-validation\n",
    "grid_search_rf = GridSearchCV(\n",
    "    estimator=rf, \n",
    "    param_grid=param_grid_rf, \n",
    "    cv=5,  # 5-fold cross-validation\n",
    "    scoring='neg_mean_squared_error',  # Optimize for lowest error\n",
    "    n_jobs=-1,  # Use all processors for faster computation\n",
    "    verbose=2  # Show progress\n",
    ")\n",
    "\n",
    "\n",
    "# Perfrom the Grid Search\n",
    "grid_search_rf.fit(X_train, y_train)\n",
    "\n",
    "# Get the best parameters\n",
    "best_params = grid_search_rf.best_params_\n",
    "print(\"Best Hyperparameters:\", best_params)"
   ]
  },
  {
   "cell_type": "code",
   "execution_count": 63,
   "id": "eb5661b9-efd8-4625-88b1-5e2d8a67152b",
   "metadata": {},
   "outputs": [
    {
     "name": "stdout",
     "output_type": "stream",
     "text": [
      "Mean Squared Error: 18.973653030715685\n",
      "Root Mean Squared Error: 4.355875690457165\n",
      "Mean Absolute Error: 3.039489041355218\n",
      "R² Score: 0.40872869426226\n"
     ]
    }
   ],
   "source": [
    "#Run Model (RF)\n",
    "\n",
    "# Initialize the Gradient Boosting Regressor with desired hyperparameters\n",
    "params_rf = {\n",
    "    'n_estimators': 200,  # Number of trees\n",
    "    'max_depth': 20,  # Maximum depth of trees\n",
    "    'min_samples_split': 10,  # Minimum samples to split a node\n",
    "    'min_samples_leaf': 1,  # Minimum samples at a leaf node\n",
    "    'max_features': 'log2',  # Number of features to consider per split\n",
    "}\n",
    "\n",
    "# Fit the model on the training set\n",
    "rf = RandomForestRegressor(**params_rf)\n",
    "rf.fit(X_train, y_train)\n",
    "\n",
    "#Make predictions\n",
    "y3_pred = rf.predict(X_test)\n",
    "\n",
    "# Evaluate the model\n",
    "mse3 = mean_squared_error(y_test, y3_pred)\n",
    "rmse3 = np.sqrt(mse3)  # Calculate RMSE by taking the square root of MSE\n",
    "mae3 = mean_absolute_error(y_test, y3_pred)\n",
    "r2_3 = r2_score(y_test, y3_pred)\n",
    "\n",
    "print(f'Mean Squared Error: {mse3}') #average of the squares of the errors, lower = more accurate\n",
    "print(f'Root Mean Squared Error: {rmse3}') #determines variance, how well the data fits?? \n",
    "print(f'Mean Absolute Error: {mae3}') #absolute differences of error, lower = more accurate\n",
    "print(f'R² Score: {r2_3}')"
   ]
  },
  {
   "cell_type": "code",
   "execution_count": 67,
   "id": "45c74175-dfd7-4bf7-b019-f4f2adc21377",
   "metadata": {},
   "outputs": [],
   "source": [
    "#Plot Cumulative Visulisation (RF)\n",
    "\n",
    "# Retrain RF on the entire dataset\n",
    "rf_full = RandomForestRegressor(**params_rf)\n",
    "rf_full.fit(X, y.values.ravel())  # Use entire dataset\n",
    "\n",
    "# Predict deficiency numbers for ALL data points\n",
    "y3_pred_full = rf_full.predict(X)\n",
    "\n",
    "# Create a DataFrame with both actual and predicted deficiency numbers\n",
    "results3_full = pd.DataFrame({\n",
    "    'predicted_deficiency': y3_pred_full,\n",
    "    'actual_deficiency': y.values.flatten()\n",
    "})\n",
    "\n",
    "# Rank by predicted deficiency and compute cumulative sum\n",
    "results3_pred_ranked = results3_full.sort_values(by='predicted_deficiency', ascending=False).reset_index(drop=True)\n",
    "results3_pred_ranked['cumulative_actual_deficiency'] = results3_pred_ranked['actual_deficiency'].cumsum()\n",
    "\n",
    "# Rank by actual deficiency and compute cumulative sum\n",
    "results_actual_ranked = results3_full.sort_values(by='actual_deficiency', ascending=False).reset_index(drop=True)\n",
    "results_actual_ranked['cumulative_actual_deficiency'] = results_actual_ranked['actual_deficiency'].cumsum()"
   ]
  },
  {
   "cell_type": "markdown",
   "id": "8b1411e0-ac0c-42b4-8b60-6984f994151f",
   "metadata": {
    "jp-MarkdownHeadingCollapsed": true
   },
   "source": [
    "# Stacked Model (GBRT+XGBoost: Stacked with Ridge)(y4_pred)"
   ]
  },
  {
   "cell_type": "code",
   "execution_count": 7,
   "id": "6203c3dc-2b14-4903-a51a-dc859ab855b6",
   "metadata": {},
   "outputs": [
    {
     "name": "stdout",
     "output_type": "stream",
     "text": [
      "Fitting 5 folds for each of 50 candidates, totalling 250 fits\n"
     ]
    },
    {
     "ename": "KeyboardInterrupt",
     "evalue": "",
     "output_type": "error",
     "traceback": [
      "\u001b[1;31m---------------------------------------------------------------------------\u001b[0m",
      "\u001b[1;31mKeyboardInterrupt\u001b[0m                         Traceback (most recent call last)",
      "Cell \u001b[1;32mIn[7], line 47\u001b[0m\n\u001b[0;32m     36\u001b[0m random_search_gbrtxgb \u001b[38;5;241m=\u001b[39m RandomizedSearchCV(\n\u001b[0;32m     37\u001b[0m     estimator\u001b[38;5;241m=\u001b[39mstacked_model1,\n\u001b[0;32m     38\u001b[0m     param_distributions\u001b[38;5;241m=\u001b[39mparam_dist_gbrtxgb,\n\u001b[1;32m   (...)\u001b[0m\n\u001b[0;32m     43\u001b[0m     random_state\u001b[38;5;241m=\u001b[39m\u001b[38;5;241m42\u001b[39m  \u001b[38;5;66;03m# Set a random seed for reproducibility\u001b[39;00m\n\u001b[0;32m     44\u001b[0m )\n\u001b[0;32m     46\u001b[0m \u001b[38;5;66;03m# Perform the Randomized Search\u001b[39;00m\n\u001b[1;32m---> 47\u001b[0m random_search_gbrtxgb\u001b[38;5;241m.\u001b[39mfit(X_train, y_train\u001b[38;5;241m.\u001b[39mvalues\u001b[38;5;241m.\u001b[39mravel())\n\u001b[0;32m     49\u001b[0m \u001b[38;5;66;03m# Get the best parameters\u001b[39;00m\n\u001b[0;32m     50\u001b[0m \u001b[38;5;28mprint\u001b[39m(\u001b[38;5;124m\"\u001b[39m\u001b[38;5;124mBest Parameters:\u001b[39m\u001b[38;5;124m\"\u001b[39m, random_search_gbrtxgb\u001b[38;5;241m.\u001b[39mbest_params_)\n",
      "File \u001b[1;32m~\\anaconda3\\Lib\\site-packages\\sklearn\\base.py:1474\u001b[0m, in \u001b[0;36m_fit_context.<locals>.decorator.<locals>.wrapper\u001b[1;34m(estimator, *args, **kwargs)\u001b[0m\n\u001b[0;32m   1467\u001b[0m     estimator\u001b[38;5;241m.\u001b[39m_validate_params()\n\u001b[0;32m   1469\u001b[0m \u001b[38;5;28;01mwith\u001b[39;00m config_context(\n\u001b[0;32m   1470\u001b[0m     skip_parameter_validation\u001b[38;5;241m=\u001b[39m(\n\u001b[0;32m   1471\u001b[0m         prefer_skip_nested_validation \u001b[38;5;129;01mor\u001b[39;00m global_skip_validation\n\u001b[0;32m   1472\u001b[0m     )\n\u001b[0;32m   1473\u001b[0m ):\n\u001b[1;32m-> 1474\u001b[0m     \u001b[38;5;28;01mreturn\u001b[39;00m fit_method(estimator, \u001b[38;5;241m*\u001b[39margs, \u001b[38;5;241m*\u001b[39m\u001b[38;5;241m*\u001b[39mkwargs)\n",
      "File \u001b[1;32m~\\anaconda3\\Lib\\site-packages\\sklearn\\model_selection\\_search.py:970\u001b[0m, in \u001b[0;36mBaseSearchCV.fit\u001b[1;34m(self, X, y, **params)\u001b[0m\n\u001b[0;32m    964\u001b[0m     results \u001b[38;5;241m=\u001b[39m \u001b[38;5;28mself\u001b[39m\u001b[38;5;241m.\u001b[39m_format_results(\n\u001b[0;32m    965\u001b[0m         all_candidate_params, n_splits, all_out, all_more_results\n\u001b[0;32m    966\u001b[0m     )\n\u001b[0;32m    968\u001b[0m     \u001b[38;5;28;01mreturn\u001b[39;00m results\n\u001b[1;32m--> 970\u001b[0m \u001b[38;5;28mself\u001b[39m\u001b[38;5;241m.\u001b[39m_run_search(evaluate_candidates)\n\u001b[0;32m    972\u001b[0m \u001b[38;5;66;03m# multimetric is determined here because in the case of a callable\u001b[39;00m\n\u001b[0;32m    973\u001b[0m \u001b[38;5;66;03m# self.scoring the return type is only known after calling\u001b[39;00m\n\u001b[0;32m    974\u001b[0m first_test_score \u001b[38;5;241m=\u001b[39m all_out[\u001b[38;5;241m0\u001b[39m][\u001b[38;5;124m\"\u001b[39m\u001b[38;5;124mtest_scores\u001b[39m\u001b[38;5;124m\"\u001b[39m]\n",
      "File \u001b[1;32m~\\anaconda3\\Lib\\site-packages\\sklearn\\model_selection\\_search.py:1914\u001b[0m, in \u001b[0;36mRandomizedSearchCV._run_search\u001b[1;34m(self, evaluate_candidates)\u001b[0m\n\u001b[0;32m   1912\u001b[0m \u001b[38;5;28;01mdef\u001b[39;00m \u001b[38;5;21m_run_search\u001b[39m(\u001b[38;5;28mself\u001b[39m, evaluate_candidates):\n\u001b[0;32m   1913\u001b[0m \u001b[38;5;250m    \u001b[39m\u001b[38;5;124;03m\"\"\"Search n_iter candidates from param_distributions\"\"\"\u001b[39;00m\n\u001b[1;32m-> 1914\u001b[0m     evaluate_candidates(\n\u001b[0;32m   1915\u001b[0m         ParameterSampler(\n\u001b[0;32m   1916\u001b[0m             \u001b[38;5;28mself\u001b[39m\u001b[38;5;241m.\u001b[39mparam_distributions, \u001b[38;5;28mself\u001b[39m\u001b[38;5;241m.\u001b[39mn_iter, random_state\u001b[38;5;241m=\u001b[39m\u001b[38;5;28mself\u001b[39m\u001b[38;5;241m.\u001b[39mrandom_state\n\u001b[0;32m   1917\u001b[0m         )\n\u001b[0;32m   1918\u001b[0m     )\n",
      "File \u001b[1;32m~\\anaconda3\\Lib\\site-packages\\sklearn\\model_selection\\_search.py:916\u001b[0m, in \u001b[0;36mBaseSearchCV.fit.<locals>.evaluate_candidates\u001b[1;34m(candidate_params, cv, more_results)\u001b[0m\n\u001b[0;32m    908\u001b[0m \u001b[38;5;28;01mif\u001b[39;00m \u001b[38;5;28mself\u001b[39m\u001b[38;5;241m.\u001b[39mverbose \u001b[38;5;241m>\u001b[39m \u001b[38;5;241m0\u001b[39m:\n\u001b[0;32m    909\u001b[0m     \u001b[38;5;28mprint\u001b[39m(\n\u001b[0;32m    910\u001b[0m         \u001b[38;5;124m\"\u001b[39m\u001b[38;5;124mFitting \u001b[39m\u001b[38;5;132;01m{0}\u001b[39;00m\u001b[38;5;124m folds for each of \u001b[39m\u001b[38;5;132;01m{1}\u001b[39;00m\u001b[38;5;124m candidates,\u001b[39m\u001b[38;5;124m\"\u001b[39m\n\u001b[0;32m    911\u001b[0m         \u001b[38;5;124m\"\u001b[39m\u001b[38;5;124m totalling \u001b[39m\u001b[38;5;132;01m{2}\u001b[39;00m\u001b[38;5;124m fits\u001b[39m\u001b[38;5;124m\"\u001b[39m\u001b[38;5;241m.\u001b[39mformat(\n\u001b[0;32m    912\u001b[0m             n_splits, n_candidates, n_candidates \u001b[38;5;241m*\u001b[39m n_splits\n\u001b[0;32m    913\u001b[0m         )\n\u001b[0;32m    914\u001b[0m     )\n\u001b[1;32m--> 916\u001b[0m out \u001b[38;5;241m=\u001b[39m parallel(\n\u001b[0;32m    917\u001b[0m     delayed(_fit_and_score)(\n\u001b[0;32m    918\u001b[0m         clone(base_estimator),\n\u001b[0;32m    919\u001b[0m         X,\n\u001b[0;32m    920\u001b[0m         y,\n\u001b[0;32m    921\u001b[0m         train\u001b[38;5;241m=\u001b[39mtrain,\n\u001b[0;32m    922\u001b[0m         test\u001b[38;5;241m=\u001b[39mtest,\n\u001b[0;32m    923\u001b[0m         parameters\u001b[38;5;241m=\u001b[39mparameters,\n\u001b[0;32m    924\u001b[0m         split_progress\u001b[38;5;241m=\u001b[39m(split_idx, n_splits),\n\u001b[0;32m    925\u001b[0m         candidate_progress\u001b[38;5;241m=\u001b[39m(cand_idx, n_candidates),\n\u001b[0;32m    926\u001b[0m         \u001b[38;5;241m*\u001b[39m\u001b[38;5;241m*\u001b[39mfit_and_score_kwargs,\n\u001b[0;32m    927\u001b[0m     )\n\u001b[0;32m    928\u001b[0m     \u001b[38;5;28;01mfor\u001b[39;00m (cand_idx, parameters), (split_idx, (train, test)) \u001b[38;5;129;01min\u001b[39;00m product(\n\u001b[0;32m    929\u001b[0m         \u001b[38;5;28menumerate\u001b[39m(candidate_params),\n\u001b[0;32m    930\u001b[0m         \u001b[38;5;28menumerate\u001b[39m(cv\u001b[38;5;241m.\u001b[39msplit(X, y, \u001b[38;5;241m*\u001b[39m\u001b[38;5;241m*\u001b[39mrouted_params\u001b[38;5;241m.\u001b[39msplitter\u001b[38;5;241m.\u001b[39msplit)),\n\u001b[0;32m    931\u001b[0m     )\n\u001b[0;32m    932\u001b[0m )\n\u001b[0;32m    934\u001b[0m \u001b[38;5;28;01mif\u001b[39;00m \u001b[38;5;28mlen\u001b[39m(out) \u001b[38;5;241m<\u001b[39m \u001b[38;5;241m1\u001b[39m:\n\u001b[0;32m    935\u001b[0m     \u001b[38;5;28;01mraise\u001b[39;00m \u001b[38;5;167;01mValueError\u001b[39;00m(\n\u001b[0;32m    936\u001b[0m         \u001b[38;5;124m\"\u001b[39m\u001b[38;5;124mNo fits were performed. \u001b[39m\u001b[38;5;124m\"\u001b[39m\n\u001b[0;32m    937\u001b[0m         \u001b[38;5;124m\"\u001b[39m\u001b[38;5;124mWas the CV iterator empty? \u001b[39m\u001b[38;5;124m\"\u001b[39m\n\u001b[0;32m    938\u001b[0m         \u001b[38;5;124m\"\u001b[39m\u001b[38;5;124mWere there no candidates?\u001b[39m\u001b[38;5;124m\"\u001b[39m\n\u001b[0;32m    939\u001b[0m     )\n",
      "File \u001b[1;32m~\\anaconda3\\Lib\\site-packages\\sklearn\\utils\\parallel.py:67\u001b[0m, in \u001b[0;36mParallel.__call__\u001b[1;34m(self, iterable)\u001b[0m\n\u001b[0;32m     62\u001b[0m config \u001b[38;5;241m=\u001b[39m get_config()\n\u001b[0;32m     63\u001b[0m iterable_with_config \u001b[38;5;241m=\u001b[39m (\n\u001b[0;32m     64\u001b[0m     (_with_config(delayed_func, config), args, kwargs)\n\u001b[0;32m     65\u001b[0m     \u001b[38;5;28;01mfor\u001b[39;00m delayed_func, args, kwargs \u001b[38;5;129;01min\u001b[39;00m iterable\n\u001b[0;32m     66\u001b[0m )\n\u001b[1;32m---> 67\u001b[0m \u001b[38;5;28;01mreturn\u001b[39;00m \u001b[38;5;28msuper\u001b[39m()\u001b[38;5;241m.\u001b[39m\u001b[38;5;21m__call__\u001b[39m(iterable_with_config)\n",
      "File \u001b[1;32m~\\anaconda3\\Lib\\site-packages\\joblib\\parallel.py:2007\u001b[0m, in \u001b[0;36mParallel.__call__\u001b[1;34m(self, iterable)\u001b[0m\n\u001b[0;32m   2001\u001b[0m \u001b[38;5;66;03m# The first item from the output is blank, but it makes the interpreter\u001b[39;00m\n\u001b[0;32m   2002\u001b[0m \u001b[38;5;66;03m# progress until it enters the Try/Except block of the generator and\u001b[39;00m\n\u001b[0;32m   2003\u001b[0m \u001b[38;5;66;03m# reaches the first `yield` statement. This starts the asynchronous\u001b[39;00m\n\u001b[0;32m   2004\u001b[0m \u001b[38;5;66;03m# dispatch of the tasks to the workers.\u001b[39;00m\n\u001b[0;32m   2005\u001b[0m \u001b[38;5;28mnext\u001b[39m(output)\n\u001b[1;32m-> 2007\u001b[0m \u001b[38;5;28;01mreturn\u001b[39;00m output \u001b[38;5;28;01mif\u001b[39;00m \u001b[38;5;28mself\u001b[39m\u001b[38;5;241m.\u001b[39mreturn_generator \u001b[38;5;28;01melse\u001b[39;00m \u001b[38;5;28mlist\u001b[39m(output)\n",
      "File \u001b[1;32m~\\anaconda3\\Lib\\site-packages\\joblib\\parallel.py:1650\u001b[0m, in \u001b[0;36mParallel._get_outputs\u001b[1;34m(self, iterator, pre_dispatch)\u001b[0m\n\u001b[0;32m   1647\u001b[0m     \u001b[38;5;28;01myield\u001b[39;00m\n\u001b[0;32m   1649\u001b[0m     \u001b[38;5;28;01mwith\u001b[39;00m \u001b[38;5;28mself\u001b[39m\u001b[38;5;241m.\u001b[39m_backend\u001b[38;5;241m.\u001b[39mretrieval_context():\n\u001b[1;32m-> 1650\u001b[0m         \u001b[38;5;28;01myield from\u001b[39;00m \u001b[38;5;28mself\u001b[39m\u001b[38;5;241m.\u001b[39m_retrieve()\n\u001b[0;32m   1652\u001b[0m \u001b[38;5;28;01mexcept\u001b[39;00m \u001b[38;5;167;01mGeneratorExit\u001b[39;00m:\n\u001b[0;32m   1653\u001b[0m     \u001b[38;5;66;03m# The generator has been garbage collected before being fully\u001b[39;00m\n\u001b[0;32m   1654\u001b[0m     \u001b[38;5;66;03m# consumed. This aborts the remaining tasks if possible and warn\u001b[39;00m\n\u001b[0;32m   1655\u001b[0m     \u001b[38;5;66;03m# the user if necessary.\u001b[39;00m\n\u001b[0;32m   1656\u001b[0m     \u001b[38;5;28mself\u001b[39m\u001b[38;5;241m.\u001b[39m_exception \u001b[38;5;241m=\u001b[39m \u001b[38;5;28;01mTrue\u001b[39;00m\n",
      "File \u001b[1;32m~\\anaconda3\\Lib\\site-packages\\joblib\\parallel.py:1762\u001b[0m, in \u001b[0;36mParallel._retrieve\u001b[1;34m(self)\u001b[0m\n\u001b[0;32m   1757\u001b[0m \u001b[38;5;66;03m# If the next job is not ready for retrieval yet, we just wait for\u001b[39;00m\n\u001b[0;32m   1758\u001b[0m \u001b[38;5;66;03m# async callbacks to progress.\u001b[39;00m\n\u001b[0;32m   1759\u001b[0m \u001b[38;5;28;01mif\u001b[39;00m ((\u001b[38;5;28mlen\u001b[39m(\u001b[38;5;28mself\u001b[39m\u001b[38;5;241m.\u001b[39m_jobs) \u001b[38;5;241m==\u001b[39m \u001b[38;5;241m0\u001b[39m) \u001b[38;5;129;01mor\u001b[39;00m\n\u001b[0;32m   1760\u001b[0m     (\u001b[38;5;28mself\u001b[39m\u001b[38;5;241m.\u001b[39m_jobs[\u001b[38;5;241m0\u001b[39m]\u001b[38;5;241m.\u001b[39mget_status(\n\u001b[0;32m   1761\u001b[0m         timeout\u001b[38;5;241m=\u001b[39m\u001b[38;5;28mself\u001b[39m\u001b[38;5;241m.\u001b[39mtimeout) \u001b[38;5;241m==\u001b[39m TASK_PENDING)):\n\u001b[1;32m-> 1762\u001b[0m     time\u001b[38;5;241m.\u001b[39msleep(\u001b[38;5;241m0.01\u001b[39m)\n\u001b[0;32m   1763\u001b[0m     \u001b[38;5;28;01mcontinue\u001b[39;00m\n\u001b[0;32m   1765\u001b[0m \u001b[38;5;66;03m# We need to be careful: the job list can be filling up as\u001b[39;00m\n\u001b[0;32m   1766\u001b[0m \u001b[38;5;66;03m# we empty it and Python list are not thread-safe by\u001b[39;00m\n\u001b[0;32m   1767\u001b[0m \u001b[38;5;66;03m# default hence the use of the lock\u001b[39;00m\n",
      "\u001b[1;31mKeyboardInterrupt\u001b[0m: "
     ]
    }
   ],
   "source": [
    "#RandomizedSearchCV  (GridSerach is taking too long)\n",
    "\n",
    "# Base models\n",
    "gbrt = GradientBoostingRegressor()\n",
    "xgb = XGBRegressor(verbosity=0)\n",
    "\n",
    "# Meta-model (final estimator)\n",
    "meta_model1 = Ridge()\n",
    "\n",
    "stacked_model1 = StackingRegressor(\n",
    "    estimators=[('gbrt', gbrt), ('xgb', xgb)],\n",
    "    final_estimator=meta_model1,\n",
    "    passthrough=True  # Optional: include original features for meta-model\n",
    ")\n",
    "\n",
    "# Define parameter distribution for RandomizedSearchCV\n",
    "param_dist_gbrtxgb = {\n",
    "    'gbrt__n_estimators': [100, 300, 500, 700],\n",
    "    'gbrt__learning_rate': [0.01, 0.05, 0.1, 0.2],\n",
    "    'gbrt__max_depth': [3, 5, 7, 9],\n",
    "    'gbrt__min_samples_leaf': [5, 10, 20],\n",
    "    'gbrt__subsample': [0.6, 0.8, 1.0],\n",
    "    'gbrt__max_features': [0.3, 0.5, 0.7, 1.0],\n",
    "\n",
    "    'xgb__n_estimators': [100, 300, 500],\n",
    "    'xgb__learning_rate': [0.01, 0.05, 0.1],\n",
    "    'xgb__max_depth': [3, 5, 7],\n",
    "    'xgb__min_child_weight': [1, 5, 10],\n",
    "    'xgb__subsample': [0.6, 0.8, 1.0],\n",
    "    'xgb__colsample_bytree': [0.3, 0.5, 0.7],\n",
    "\n",
    "    'final_estimator__alpha': [0.1, 1.0, 10.0]  # Ridge regularization strength\n",
    "}\n",
    "\n",
    "# Perform RandomizedSearchCV with 5-fold cross-validation\n",
    "random_search_gbrtxgb = RandomizedSearchCV(\n",
    "    estimator=stacked_model1,\n",
    "    param_distributions=param_dist_gbrtxgb,\n",
    "    n_iter=50,  # Number of random combinations to try\n",
    "    cv=5,  # 5-fold cross-validation\n",
    "    n_jobs=-1,  # Use all processors for faster computation\n",
    "    verbose=2,  # Show progress\n",
    "    random_state=42  # Set a random seed for reproducibility\n",
    ")\n",
    "\n",
    "# Perform the Randomized Search\n",
    "random_search_gbrtxgb.fit(X_train, y_train.values.ravel())\n",
    "\n",
    "# Get the best parameters\n",
    "print(\"Best Parameters:\", random_search_gbrtxgb.best_params_)"
   ]
  },
  {
   "cell_type": "code",
   "execution_count": 84,
   "id": "0f7caf78-5b5d-43ed-b7b4-ad8a61f6012c",
   "metadata": {},
   "outputs": [
    {
     "name": "stdout",
     "output_type": "stream",
     "text": [
      "Stacked Model MSE: 23.338\n",
      "Stacked Model RMSE: 4.831\n",
      "Stacked Model MAE: 3.267\n",
      "Stacked Model R² Score: 0.273\n"
     ]
    }
   ],
   "source": [
    "params_gbrt = {\n",
    "    \"n_estimators\": 300, #Number of boosting stages (trees) to run\n",
    "    \"learning_rate\": 0.01, #determine contribution of each tree, lower LR = low variance \n",
    "    \"max_depth\": 3, #maximum depth of individual trees \n",
    "    \"min_samples_leaf\": 5, #Minimum samples required at a leaf node\n",
    "    \"subsample\": 0.6, #Fraction of samples used to fit each tree\n",
    "    \"max_features\": 0.5, #Fraction of features to consider at each split\n",
    "    \"loss\": \"squared_error\" #Specifies the loss function to be optimised --> potential to explore other loss fn: MAE, \"huber\", \"quantitle\"\n",
    "}\n",
    "\n",
    "params_xgb = {\n",
    "    \"n_estimators\": 500,  \n",
    "    \"learning_rate\": 0.01,  \n",
    "    \"max_depth\":3,  \n",
    "    \"min_child_weight\": 1,  # Changed from `min_samples_leaf`\n",
    "    \"subsample\": 0.6 ,  \n",
    "    \"colsample_bytree\": 0.7  # Changed from `max_features`\n",
    "}\n",
    "\n",
    "# 3️⃣ Train Base Models\n",
    "xgb = XGBRegressor(**params_xgb)\n",
    "gbrt = GradientBoostingRegressor(**params_gbrt)\n",
    "\n",
    "xgb.fit(X_train, y_train)\n",
    "gbrt.fit(X_train, y_train)\n",
    "\n",
    "# 4️⃣ Make predictions on Train & Test Data\n",
    "train_pred_xgb = xgb.predict(X_train)\n",
    "train_pred_gbrt = gbrt.predict(X_train)\n",
    "\n",
    "test_pred_xgb = xgb.predict(X_test)\n",
    "test_pred_gbrt = gbrt.predict(X_test)\n",
    "\n",
    "# 5️⃣ Prepare Stacking Dataset\n",
    "X_train_stack = np.column_stack((train_pred_xgb, train_pred_gbrt))  # Combine predictions\n",
    "X_test_stack = np.column_stack((test_pred_xgb, test_pred_gbrt))\n",
    "\n",
    "# 6️⃣ Train Meta-Model (Linear Regression as Meta-Learner)\n",
    "meta_model1 = Ridge()\n",
    "meta_model1.fit(X_train_stack, y_train)\n",
    "\n",
    "# 7️⃣ Make Final Predictions\n",
    "y4_pred_final = meta_model1.predict(X_test_stack)\n",
    "\n",
    "# 8️⃣ Evaluate Performance\n",
    "rmse4 = np.sqrt(mean_squared_error(y_test, y4_pred_final))\n",
    "mse4 = mean_squared_error(y_test, y4_pred_final)\n",
    "mae4 = mean_absolute_error(y_test, y4_pred_final)\n",
    "r2_4 = r2_score(y_test, y4_pred_final)\n",
    "\n",
    "# Print all evaluation metrics\n",
    "print(f\"Stacked Model MSE: {mse4:.3f}\")\n",
    "print(f\"Stacked Model RMSE: {rmse4:.3f}\")\n",
    "print(f\"Stacked Model MAE: {mae4:.3f}\")\n",
    "print(f\"Stacked Model R² Score: {r2_4:.3f}\")"
   ]
  },
  {
   "cell_type": "code",
   "execution_count": 15,
   "id": "d8fc4cf8-d8c4-447d-90b7-73aa7e21ff5e",
   "metadata": {},
   "outputs": [],
   "source": [
    "#### Retrain meta_model1 on the entire dataset\n",
    "meta_model_full1 = Ridge()\n",
    "meta_model_full1.fit(X, y.values.ravel())  # Use entire dataset\n",
    "\n",
    "# Predict deficiency numbers for ALL data points\n",
    "y4_pred_full = meta_model_full1.predict(X)\n",
    "\n",
    "# Create a DataFrame with both actual and predicted deficiency numbers\n",
    "results4_full = pd.DataFrame({\n",
    "    'predicted_deficiency': y4_pred_full,\n",
    "    'actual_deficiency': y.values.flatten()\n",
    "})\n",
    "\n",
    "# Rank by actual deficiency and compute cumulative sum\n",
    "results_actual_ranked = results4_full.sort_values(by='actual_deficiency', ascending=False).reset_index(drop=True)\n",
    "results_actual_ranked['cumulative_actual_deficiency'] = results_actual_ranked['actual_deficiency'].cumsum()\n",
    "\n",
    "# Rank by predicted deficiency and compute cumulative sum\n",
    "results4_pred_ranked = results4_full.sort_values(by='predicted_deficiency', ascending=False).reset_index(drop=True)\n",
    "results4_pred_ranked['cumulative_actual_deficiency'] = results4_pred_ranked['actual_deficiency'].cumsum()"
   ]
  },
  {
   "cell_type": "markdown",
   "id": "f1f740ca-bec8-4a6c-995a-ed3346156258",
   "metadata": {
    "jp-MarkdownHeadingCollapsed": true
   },
   "source": [
    "# Stacked Model (GBRT+RF: Stacked with Ridge)(y5_pred)"
   ]
  },
  {
   "cell_type": "code",
   "execution_count": null,
   "id": "73dee978-f6cf-4bc6-8d7e-07b9bedacdd2",
   "metadata": {},
   "outputs": [],
   "source": [
    "#GridSearch (GBRT+RF)\n",
    "\n",
    "# Base models\n",
    "gbrt = GradientBoostingRegressor()\n",
    "rf = RandomForestRegressor(random_state=42)\n",
    "\n",
    "# Meta-model (final estimator)\n",
    "meta_model2 = Ridge()\n",
    "\n",
    "stacked_model2 = StackingRegressor(\n",
    "    estimators=[('gbrt', gbrt), ('rf', rf)],\n",
    "    final_estimator=meta_model2,\n",
    "    passthrough=True  # Optional: include original features for meta-model\n",
    ")\n",
    "\n",
    "\n",
    "#Define parameter grid\n",
    "param_grid_gbrtrf = {\n",
    "    'gbrt__n_estimators': [100, 300],\n",
    "    'gbrt__learning_rate': [0.05, 0.1],\n",
    "    'gbrt__max_depth': [3, 5],\n",
    "    'gbrt__min_samples_leaf': [5, 10, 20],  # Minimum samples per leaf node\n",
    "    'gbrt__subsample': [0.6, 0.8, 1.0],  # Fraction of samples used for each tree\n",
    "    'gbrt__max_features': [0.3, 0.5, 0.7],  # Fraction of features used per split\n",
    "\n",
    "    'rf__n_estimators': [50, 100, 200],  # Number of trees\n",
    "    'rf__max_depth': [None, 10, 20],  # Maximum depth of trees\n",
    "    'rf__min_samples_split': [2, 5, 10],  # Minimum samples to split a node\n",
    "    'rt__min_samples_leaf': [1, 2, 4],  # Minimum samples at a leaf node\n",
    "    'rf__max_features': ['sqrt', 'log2'],  # Number of features to consider per split\n",
    "    \n",
    "    'final_estimator__alpha': [0.1, 1.0]  # Ridge regularization strength\n",
    "}\n",
    "\n",
    "\n",
    "# Perform Grid Search with 5-fold cross-validation\n",
    "grid_search_gbrtrf = GridSearchCV(\n",
    "    estimator=stacked_model2, \n",
    "    param_grid=param_grid_gbrtrf, \n",
    "    cv=5,  # 5-fold cross-validation\n",
    "    n_jobs=-1,  # Use all processors for faster computation\n",
    "    verbose=2  # Show progress\n",
    ")\n",
    "\n",
    "# Perfrom the Grid Search\n",
    "grid_search_gbrtrf.fit(X_train, y_train.values.ravel())\n",
    "\n",
    "# Get the best parameters\n",
    "print(\"Best Parameters:\", grid_search_gbrtrf.best_params_)"
   ]
  },
  {
   "cell_type": "code",
   "execution_count": 90,
   "id": "e3c062bd-55e0-4687-a318-39c5815f4c12",
   "metadata": {},
   "outputs": [
    {
     "name": "stdout",
     "output_type": "stream",
     "text": [
      "Stacked Model MSE: 21.789\n",
      "Stacked Model RMSE: 4.668\n",
      "Stacked Model MAE: 3.156\n",
      "Stacked Model R² Score: 0.321\n"
     ]
    }
   ],
   "source": [
    "params_gbrt = {\n",
    "    \"n_estimators\": 300, #Number of boosting stages (trees) to run\n",
    "    \"learning_rate\": 0.01, #determine contribution of each tree, lower LR = low variance \n",
    "    \"max_depth\": 3, #maximum depth of individual trees \n",
    "    \"min_samples_leaf\": 5, #Minimum samples required at a leaf node\n",
    "    \"subsample\": 0.6, #Fraction of samples used to fit each tree\n",
    "    \"max_features\": 0.5, #Fraction of features to consider at each split\n",
    "    \"loss\": \"squared_error\" #Specifies the loss function to be optimised --> potential to explore other loss fn: MAE, \"huber\", \"quantitle\"\n",
    "}\n",
    "\n",
    "params_rf = {\n",
    "    'n_estimators': 200,  # Number of trees\n",
    "    'max_depth': 10,  # Maximum depth of trees\n",
    "    'min_samples_split': 5,  # Minimum samples to split a node\n",
    "    'min_samples_leaf': 2,  # Minimum samples at a leaf node\n",
    "    'max_features': 'sqrt',  # Number of features to consider per split\n",
    "}\n",
    "\n",
    "\n",
    "# 3️⃣ Train Base Models\n",
    "gbrt = GradientBoostingRegressor(**params_gbrt)\n",
    "rf = RandomForestRegressor(**params_rf)\n",
    "\n",
    "rf.fit(X_train, y_train)\n",
    "gbrt.fit(X_train, y_train)\n",
    "\n",
    "# 4️⃣ Make predictions on Train & Test Data\n",
    "train_pred_rf = rf.predict(X_train)\n",
    "train_pred_gbrt = gbrt.predict(X_train)\n",
    "\n",
    "test_pred_rf = rf.predict(X_test)\n",
    "test_pred_gbrt = gbrt.predict(X_test)\n",
    "\n",
    "# 5️⃣ Prepare Stacking Dataset\n",
    "X_train_stack = np.column_stack((train_pred_rf, train_pred_gbrt))  # Combine predictions\n",
    "X_test_stack = np.column_stack((test_pred_rf, test_pred_gbrt))\n",
    "\n",
    "# 6️⃣ Train Meta-Model (Linear Regression as Meta-Learner)\n",
    "meta_model2 = LinearRegression()\n",
    "meta_model2.fit(X_train_stack, y_train)\n",
    "\n",
    "# 7️⃣ Make Final Predictions\n",
    "y5_pred_final = meta_model2.predict(X_test_stack)\n",
    "\n",
    "# 8️⃣ Evaluate Performance\n",
    "rmse5 = np.sqrt(mean_squared_error(y_test, y5_pred_final))\n",
    "mse5 = mean_squared_error(y_test, y5_pred_final)\n",
    "mae5 = mean_absolute_error(y_test, y5_pred_final)\n",
    "r2_5 = r2_score(y_test, y5_pred_final)\n",
    "\n",
    "# Print all evaluation metrics\n",
    "print(f\"Stacked Model MSE: {mse5:.3f}\")\n",
    "print(f\"Stacked Model RMSE: {rmse5:.3f}\")\n",
    "print(f\"Stacked Model MAE: {mae5:.3f}\")\n",
    "print(f\"Stacked Model R² Score: {r2_5:.3f}\")\n"
   ]
  },
  {
   "cell_type": "code",
   "execution_count": 102,
   "id": "a087acb2-ad5a-4d23-9557-2c087251a1e7",
   "metadata": {},
   "outputs": [],
   "source": [
    "#### Retrain meta_model2 on the entire dataset\n",
    "meta_model_full2 = LinearRegression()\n",
    "meta_model_full2.fit(X, y.values.ravel())  # Use entire dataset\n",
    "\n",
    "# Predict deficiency numbers for ALL data points\n",
    "y5_pred_full = meta_model_full2.predict(X)\n",
    "\n",
    "# Create a DataFrame with both actual and predicted deficiency numbers\n",
    "results5_full = pd.DataFrame({\n",
    "    'predicted_deficiency': y5_pred_full,\n",
    "    'actual_deficiency': y.values.flatten()\n",
    "})\n",
    "\n",
    "# Rank by actual deficiency and compute cumulative sum\n",
    "results_actual_ranked = results5_full.sort_values(by='actual_deficiency', ascending=False).reset_index(drop=True)\n",
    "results_actual_ranked['cumulative_actual_deficiency'] = results_actual_ranked['actual_deficiency'].cumsum()\n",
    "\n",
    "# Rank by predicted deficiency and compute cumulative sum\n",
    "results5_pred_ranked = results5_full.sort_values(by='predicted_deficiency', ascending=False).reset_index(drop=True)\n",
    "results5_pred_ranked['cumulative_actual_deficiency'] = results5_pred_ranked['actual_deficiency'].cumsum()"
   ]
  },
  {
   "cell_type": "markdown",
   "id": "2776d6d6-42cf-4449-8a33-9a817d19bbcb",
   "metadata": {
    "jp-MarkdownHeadingCollapsed": true
   },
   "source": [
    "# Cummulative Visualisation"
   ]
  },
  {
   "cell_type": "code",
   "execution_count": 104,
   "id": "650ae3f2-e024-4a03-97aa-df3aae3cc1b9",
   "metadata": {},
   "outputs": [
    {
     "data": {
      "image/png": "[encoded data removed]",
      "text/plain": [
       "<Figure size 1000x600 with 1 Axes>"
      ]
     },
     "metadata": {},
     "output_type": "display_data"
    }
   ],
   "source": [
    "import matplotlib.pyplot as plt\n",
    "\n",
    "plt.figure(figsize=(10, 6))\n",
    "\n",
    "# Plot cumulative curve for actual ranking\n",
    "plt.plot(results_actual_ranked.index, results_actual_ranked['cumulative_actual_deficiency'], \n",
    "        marker='s', linestyle='--', color='b', label=\"SRP\")\n",
    "\n",
    "# Plot cumulative curve for predicted ranking\n",
    "plt.plot(results1_pred_ranked.index, results1_pred_ranked['cumulative_actual_deficiency'], \n",
    "        marker='o', linestyle='-', color='m', label=\"GBRT\")\n",
    "\n",
    "plt.plot(results2_pred_ranked.index, results2_pred_ranked['cumulative_actual_deficiency'], \n",
    "        marker='o', linestyle='-', color='g', label=\"XGBoost\")\n",
    "\n",
    "plt.plot(results3_pred_ranked.index, results3_pred_ranked['cumulative_actual_deficiency'], \n",
    "        marker='o', linestyle='-', color='y', label=\"RF\")\n",
    "\n",
    "plt.plot(results4_pred_ranked.index, results4_pred_ranked['cumulative_actual_deficiency'], \n",
    "        marker='o', linestyle='-', color='r', label=\"GBRT-XGBoost\")\n",
    "\n",
    "plt.plot(results5_pred_ranked.index, results5_pred_ranked['cumulative_actual_deficiency'], \n",
    "        marker='o', linestyle='-', color='k', label=\"GBRT-RF\")\n",
    "\n",
    "\n",
    "# Formatting\n",
    "plt.xlabel(\"Ranked Vessel Index\")\n",
    "plt.ylabel(\"Cumulative Sum of Actual Deficiency Numbers\")\n",
    "plt.title(\"Cumulative Visualization of Deficiency Rankings (Full Dataset)\")\n",
    "plt.legend()\n",
    "plt.grid(True)\n",
    "\n",
    "# Show plot\n",
    "plt.show()"
   ]
  }
 ],
 "metadata": {
  "kernelspec": {
   "display_name": "Python 3 (ipykernel)",
   "language": "python",
   "name": "python3"
  },
  "language_info": {
   "codemirror_mode": {
    "name": "ipython",
    "version": 3
   },
   "file_extension": ".py",
   "mimetype": "text/x-python",
   "name": "python",
   "nbconvert_exporter": "python",
   "pygments_lexer": "ipython3",
   "version": "3.12.4"
  }
 },
 "nbformat": 4,
 "nbformat_minor": 5
}
